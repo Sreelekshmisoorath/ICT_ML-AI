{
  "nbformat": 4,
  "nbformat_minor": 0,
  "metadata": {
    "colab": {
      "provenance": []
    },
    "kernelspec": {
      "name": "python3",
      "display_name": "Python 3"
    },
    "language_info": {
      "name": "python"
    }
  },
  "cells": [
    {
      "cell_type": "code",
      "execution_count": null,
      "metadata": {
        "id": "bk4YCAFGoiAX"
      },
      "outputs": [],
      "source": [
        "a=['Aisha','Adharsh','Noel']"
      ]
    },
    {
      "cell_type": "code",
      "source": [
        "s=-3\n",
        "while s<0:\n",
        "   b=a[s]\n",
        "   s=s+1\n"
      ],
      "metadata": {
        "id": "AVJt0qZBpBKq"
      },
      "execution_count": null,
      "outputs": []
    },
    {
      "cell_type": "code",
      "source": [
        "for i in 0,1,2:\n",
        " print(b)"
      ],
      "metadata": {
        "colab": {
          "base_uri": "https://localhost:8080/"
        },
        "id": "cjA2OcospT3a",
        "outputId": "de8376fd-0f93-4285-bc3c-2303cf9dd02b"
      },
      "execution_count": null,
      "outputs": [
        {
          "output_type": "stream",
          "name": "stdout",
          "text": [
            "Noel\n",
            "Noel\n",
            "Noel\n"
          ]
        }
      ]
    },
    {
      "cell_type": "code",
      "source": [
        "i=4\n",
        "while i>=0:\n",
        " j=0\n",
        " while j<=4:\n",
        "   j=j+1\n",
        "   print(\"*\",end=\"\")\n",
        " print(\"\")\n",
        " i=i-1\n",
        " "
      ],
      "metadata": {
        "colab": {
          "base_uri": "https://localhost:8080/"
        },
        "id": "v5LgMtHxpaiU",
        "outputId": "29bcfaf3-8a49-4585-a187-06211cd03f1e"
      },
      "execution_count": null,
      "outputs": [
        {
          "output_type": "stream",
          "name": "stdout",
          "text": [
            "*****\n",
            "*****\n",
            "*****\n",
            "*****\n",
            "*****\n"
          ]
        }
      ]
    },
    {
      "cell_type": "code",
      "source": [
        "print(\"world of python\",end=\"!\")"
      ],
      "metadata": {
        "colab": {
          "base_uri": "https://localhost:8080/"
        },
        "id": "SLxQkVCqpcmP",
        "outputId": "c8485119-08d1-4638-e067-41cdbf86e471"
      },
      "execution_count": null,
      "outputs": [
        {
          "output_type": "stream",
          "name": "stdout",
          "text": [
            "world of python!"
          ]
        }
      ]
    },
    {
      "cell_type": "code",
      "source": [
        "print(\"hello \\n\"*4)"
      ],
      "metadata": {
        "colab": {
          "base_uri": "https://localhost:8080/"
        },
        "id": "ngSfydeLpk65",
        "outputId": "7065b9d3-3c3a-4e7c-f6f2-1c61ea738179"
      },
      "execution_count": null,
      "outputs": [
        {
          "output_type": "stream",
          "name": "stdout",
          "text": [
            "hello \n",
            "hello \n",
            "hello \n",
            "hello \n",
            "\n"
          ]
        }
      ]
    },
    {
      "cell_type": "code",
      "source": [
        "s=\"python\""
      ],
      "metadata": {
        "id": "MbT8zo5upqMk"
      },
      "execution_count": null,
      "outputs": []
    },
    {
      "cell_type": "code",
      "source": [
        "print(s[0])\n",
        "print(s[-3])\n",
        "print(s[1])\n",
        "print(len(s))\n",
        "print(s[-len(s)])"
      ],
      "metadata": {
        "colab": {
          "base_uri": "https://localhost:8080/"
        },
        "id": "KgbnlAVip31d",
        "outputId": "57a0f230-cfce-425d-b932-8be610cec4cc"
      },
      "execution_count": null,
      "outputs": [
        {
          "output_type": "stream",
          "name": "stdout",
          "text": [
            "p\n",
            "h\n",
            "y\n",
            "6\n",
            "p\n"
          ]
        }
      ]
    },
    {
      "cell_type": "code",
      "source": [],
      "metadata": {
        "id": "0o4qECM8p-rN"
      },
      "execution_count": null,
      "outputs": []
    },
    {
      "cell_type": "code",
      "source": [
        "print(s[0:4])\n",
        "print(s[:3])\n",
        "print(s[-5:-2])\n",
        "print(s[0:6:2])"
      ],
      "metadata": {
        "colab": {
          "base_uri": "https://localhost:8080/"
        },
        "id": "yYmJfUyGp-8g",
        "outputId": "a97827a6-4a0f-4578-a510-94352f473217"
      },
      "execution_count": null,
      "outputs": [
        {
          "output_type": "stream",
          "name": "stdout",
          "text": [
            "pyth\n",
            "pyt\n",
            "yth\n",
            "pto\n"
          ]
        }
      ]
    },
    {
      "cell_type": "code",
      "source": [
        "animals=[\"cat\",\"dog\",\"mouse\"]"
      ],
      "metadata": {
        "id": "M2Ev4nRgqFfv"
      },
      "execution_count": null,
      "outputs": []
    },
    {
      "cell_type": "code",
      "source": [
        "for an in animals:\n",
        "   print(\"hi \"+an)"
      ],
      "metadata": {
        "colab": {
          "base_uri": "https://localhost:8080/"
        },
        "id": "dRtuhhXGqPXT",
        "outputId": "4e5ca02d-b3f5-4769-ce2f-3673835e61e5"
      },
      "execution_count": null,
      "outputs": [
        {
          "output_type": "stream",
          "name": "stdout",
          "text": [
            "hi cat\n",
            "hi dog\n",
            "hi mouse\n"
          ]
        }
      ]
    },
    {
      "cell_type": "code",
      "source": [
        "a=1\n",
        "while a<10:\n",
        "   print(a)\n",
        "   a+=2"
      ],
      "metadata": {
        "colab": {
          "base_uri": "https://localhost:8080/"
        },
        "id": "LsUqq44jqTIm",
        "outputId": "77c47b17-7063-40f6-feca-5fca98583426"
      },
      "execution_count": null,
      "outputs": [
        {
          "output_type": "stream",
          "name": "stdout",
          "text": [
            "1\n",
            "3\n",
            "5\n",
            "7\n",
            "9\n"
          ]
        }
      ]
    },
    {
      "cell_type": "code",
      "source": [
        "numbers=[12,37,5,42,8]\n",
        "even=[]\n",
        "odd=[]\n",
        "while len(numbers)>0:\n",
        "  number=numbers.pop()\n",
        "  if(number%2==0):\n",
        "    even.append(number)\n",
        "  else:\n",
        "    odd.append(number)  \n",
        "print(even)\n",
        "print(odd)"
      ],
      "metadata": {
        "colab": {
          "base_uri": "https://localhost:8080/"
        },
        "id": "fCF9o9M_qgK3",
        "outputId": "c32c853b-fba0-485b-b844-a16942e30631"
      },
      "execution_count": null,
      "outputs": [
        {
          "output_type": "stream",
          "name": "stdout",
          "text": [
            "[8, 42, 12]\n",
            "[5, 37]\n"
          ]
        }
      ]
    },
    {
      "cell_type": "markdown",
      "source": [
        "CALCULATOR\n"
      ],
      "metadata": {
        "id": "jKH_JSSrqo-x"
      }
    },
    {
      "cell_type": "code",
      "source": [
        "#@title Calculator\n",
        "print(\"1-Addition 2-Subtraction 3-Multiplication 4-Division\")\n",
        "a=int(input(\"enter first number:\"))\n",
        "b=int(input(\"enter second number:\"))\n",
        "choice=input(\"enter the choice:\")\n",
        "if choice=='1':\n",
        "  r=a+b\n",
        "elif choice=='2':\n",
        "  r=a-b\n",
        "elif choice=='3':\n",
        "  r=a*b\n",
        "elif choice=='4':\n",
        "  r=a/b\n",
        "print(r)"
      ],
      "metadata": {
        "colab": {
          "base_uri": "https://localhost:8080/"
        },
        "id": "_ZWZv9Wlqtvm",
        "outputId": "9ef0643d-5d33-437e-ca39-ce5c6781e4be"
      },
      "execution_count": null,
      "outputs": [
        {
          "output_type": "stream",
          "name": "stdout",
          "text": [
            "1-Addition 2-Subtraction 3-Multiplication 4-Division\n",
            "enter first number:12\n",
            "enter second number:23\n",
            "enter the choice:2\n",
            "-11\n"
          ]
        }
      ]
    },
    {
      "cell_type": "code",
      "source": [
        "#@title Prime number\n",
        "num=int(input(\"Enter a number:\"))\n",
        "c=0\n",
        "i=1\n",
        "while(i<=num):\n",
        "  if num%i==0:\n",
        "    c=c+1\n",
        "  i=i+1\n",
        "if c==2:\n",
        "  print(\"It is a prime number\")\n",
        "else:\n",
        "  print(\"It is not a prime number\")"
      ],
      "metadata": {
        "colab": {
          "base_uri": "https://localhost:8080/"
        },
        "id": "UTn2HkE_qnsy",
        "outputId": "5e2e319b-0438-406d-c649-74ad7961d2ec"
      },
      "execution_count": null,
      "outputs": [
        {
          "output_type": "stream",
          "name": "stdout",
          "text": [
            "Enter a number:5\n",
            "It is a prime number\n"
          ]
        }
      ]
    },
    {
      "cell_type": "code",
      "source": [
        "#@title Leap year\n",
        "yr=int(input(\"Enter the year\"))\n",
        "if yr%4==0:\n",
        "   if yr%100!=0:\n",
        "    print(\"Leap year\")\n",
        "   elif yr%400==0:\n",
        "    print(\"Leap year\")\n",
        "else:\n",
        "    print(\"Not leap year\")"
      ],
      "metadata": {
        "colab": {
          "base_uri": "https://localhost:8080/"
        },
        "id": "IWg_kF1IrMoV",
        "outputId": "9d347e14-4432-4a68-e160-39d33fc0a810"
      },
      "execution_count": null,
      "outputs": [
        {
          "output_type": "stream",
          "name": "stdout",
          "text": [
            "Enter the year2003\n",
            "Not leap year\n"
          ]
        }
      ]
    }
  ]
}